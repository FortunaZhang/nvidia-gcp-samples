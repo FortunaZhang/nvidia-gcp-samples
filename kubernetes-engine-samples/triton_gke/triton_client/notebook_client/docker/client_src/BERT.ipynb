{
 "cells": [
  {
   "cell_type": "code",
   "execution_count": 66,
   "metadata": {},
   "outputs": [],
   "source": [
    "# Copyright 2019 NVIDIA Corporation. All Rights Reserved.\n",
    "#\n",
    "# Licensed under the Apache License, Version 2.0 (the \"License\");\n",
    "# you may not use this file except in compliance with the License.\n",
    "# You may obtain a copy of the License at\n",
    "#\n",
    "#     http://www.apache.org/licenses/LICENSE-2.0\n",
    "#\n",
    "# Unless required by applicable law or agreed to in writing, software\n",
    "# distributed under the License is distributed on an \"AS IS\" BASIS,\n",
    "# WITHOUT WARRANTIES OR CONDITIONS OF ANY KIND, either express or implied.\n",
    "# See the License for the specific language governing permissions and\n",
    "# limitations under the License.\n",
    "# =============================================================================="
   ]
  },
  {
   "cell_type": "markdown",
   "metadata": {},
   "source": [
    "<img src=\"https://upload.wikimedia.org/wikipedia/en/6/6d/Nvidia_image_logo.svg\" style=\"width: 90px; float: right;\">\n",
    "\n",
    "# QA Inference on BERT using TensorRT Inference Server\n",
    "\n",
    "## 1. Overview\n",
    "\n",
    "Bidirectional Embedding Representations from Transformers (BERT), is a method of pre-training language representations which obtains state-of-the-art results on a wide array of Natural Language Processing (NLP) tasks.\n",
    "\n",
    "The original paper can be found here: https://arxiv.org/abs/1810.04805.\n",
    "\n",
    "### 1.a Learning objectives\n",
    "\n",
    "This notebook demonstrates:\n",
    "\n",
    " *  Inference on Question Answering (QA) task with BERT Base/Large model\n",
    " *  The use of fine-tuned NVIDIA BERT models\n",
    " *  Use of BERT model with TensorRT Inference Server\n",
    "\n",
    "## 2. Requirements\n",
    "\n",
    "Please refer to the ReadMe file\n",
    "\n",
    "## 3. BERT Inference: Question Answering\n",
    "\n",
    "We can run inference on a fine-tuned BERT model for tasks like Question Answering.\n",
    "\n",
    "Here we use a BERT model fine-tuned on a SQuaD 2.0 Dataset which contains 100,000+ question-answer pairs on 500+ articles combined with over 50,000 new, unanswerable questions.\n",
    "\n",
    "### 3.a Paragraph and Queries\n",
    "\n",
    "The paragraph and the questions can be customized by changing the text below. Note that when using models with small sequence lengths, you should use a shorter paragraph:\n",
    "Paragraph:\n"
   ]
  },
  {
   "cell_type": "markdown",
   "metadata": {},
   "source": [
    "In this example we ask our BERT model questions related to the following paragraph:\n",
    "\n",
    "**The Apollo Program** \"The Apollo program, also known as Project Apollo, was the third United States human spaceflight program carried out by the National Aeronautics and Space Administration (NASA), which accomplished landing the first humans on the Moon from 1969 to 1972. First conceived during Dwight D. Eisenhower's administration as a three-man spacecraft to follow the one-man Project Mercury which put the first Americans in space, Apollo was later dedicated to President John F. Kennedy's national goal of landing a man on the Moon and returning him safely to the Earth by the end of the 1960s, which he proposed in a May 25, 1961, address to Congress. Project Mercury was followed by the two-man Project Gemini. The first manned flight of Apollo was in 1968. Apollo ran from 1961 to 1972, and was supported by the two-man Gemini program which ran concurrently with it from 1962 to 1966. Gemini missions developed some of the space travel techniques that were necessary for the success of the Apollo missions. Apollo used Saturn family rockets as launch vehicles. Apollo/Saturn vehicles were also used for an Apollo Applications Program, which consisted of Skylab, a space station that supported three manned missions in 1973-74, and the Apollo-Soyuz Test Project, a joint Earth orbit mission with the Soviet Union in 1975.\"\n",
    "\n",
    "**Short Version**: \"The Apollo program was the third United States human spaceflight program. First conceived as a three-man spacecraft to follow the one-man Project Mercury which put the first Americans in space, Apollo was dedicated to President John F. Kennedy's national goal of landing a man on the Moon. The first manned flight of Apollo was in 1968. Apollo ran from 1961 to 1972 followed by the Apollo-Soyuz Test Project a joint Earth orbit mission with the Soviet Union in 1975.\"\n",
    "\n",
    "The questions and relative answers expected are shown below:\n",
    "\n",
    "*  Q1: \"What project put the first Americans into space?\"\n",
    "  *  A1: \"Project Mercury\"\n",
    "*  Q2: \"What program was created to carry out these projects and missions?\"\n",
    "  *  A2: \"The Apollo program\"\n",
    "*  Q3: \"What year did the first manned Apollo flight occur?\"\n",
    "  *  A3: \"1968\"\n",
    "*  Q4: \"What President is credited with the original notion of putting Americans in space?\"\n",
    "  *  A4: \"John F. Kennedy\"\n",
    "*  Q5: \"Who did the U.S. collaborate with on an Earth orbit mission in 1975?\"\n",
    "  *  A5: \"Soviet Union\"\n",
    "*  Q6: \"How long did Project Apollo run?\"\n",
    "  *  A6: \"1961 to 1972\"\n",
    "*  Q7: \"What program helped develop space travel techniques that Project Apollo used?\"\n",
    "  *  A7: \"Gemini Mission\"\n",
    "*  Q8: \"What space station supported three manned missions in 1973-1974?\"\n",
    "  *  A8: \"Skylab\""
   ]
  },
  {
   "cell_type": "code",
   "execution_count": 67,
   "metadata": {},
   "outputs": [],
   "source": [
    "paragraph_text = \"The Apollo program, also known as Project Apollo, was the third United States human spaceflight program carried out by the National Aeronautics and Space Administration (NASA), which accomplished landing the first humans on the Moon from 1969 to 1972. First conceived during Dwight D. Eisenhower's administration as a three-man spacecraft to follow the one-man Project Mercury which put the first Americans in space, Apollo was later dedicated to President John F. Kennedy's national goal of landing a man on the Moon and returning him safely to the Earth by the end of the 1960s, which he proposed in a May 25, 1961, address to Congress. Project Mercury was followed by the two-man Project Gemini. The first manned flight of Apollo was in 1968. Apollo ran from 1961 to 1972, and was supported by the two-man Gemini program which ran concurrently with it from 1962 to 1966. Gemini missions developed some of the space travel techniques that were necessary for the success of the Apollo missions. Apollo used Saturn family rockets as launch vehicles. Apollo/Saturn vehicles were also used for an Apollo Applications Program, which consisted of Skylab, a space station that supported three manned missions in 1973-74, and the Apollo-Soyuz Test Project, a joint Earth orbit mission with the Soviet Union in 1975.\"\n",
    "\n",
    "# Short paragraph version for BERT models with max sequence length of 128\n",
    "short_paragraph_text = \"The Apollo program was the third United States human spaceflight program. First conceived as a three-man spacecraft to follow the one-man Project Mercury which put the first Americans in space, Apollo was dedicated to President John F. Kennedy's national goal of landing a man on the Moon. The first manned flight of Apollo was in 1968. Apollo ran from 1961 to 1972 followed by the Apollo-Soyuz Test Project a joint Earth orbit mission with the Soviet Union in 1975.\""
   ]
  },
  {
   "cell_type": "markdown",
   "metadata": {},
   "source": [
    "#### Question:"
   ]
  },
  {
   "cell_type": "code",
   "execution_count": 68,
   "metadata": {},
   "outputs": [],
   "source": [
    "#question_text = \"What project put the first Americans into space?\"\n",
    "#question_text =  \"What year did the first manned Apollo flight occur?\"\n",
    "question_text =  \"What President is credited with the original notion of putting Americans in space?\"\n",
    "#question_text =  \"Who did the U.S. collaborate with on an Earth orbit mission in 1975?\""
   ]
  },
  {
   "cell_type": "markdown",
   "metadata": {},
   "source": [
    "## 4. Data Preprocessing\n",
    "\n",
    "Let's convert the paragraph and the question to BERT input with the help of the tokenizer:"
   ]
  },
  {
   "cell_type": "code",
   "execution_count": 69,
   "metadata": {},
   "outputs": [],
   "source": [
    "import os\n",
    "import time\n",
    "import numpy as np\n",
    "import data_processing as dp\n",
    "import tokenization\n",
    "\n",
    "tokenizer = tokenization.FullTokenizer(vocab_file=\"vocab.txt\", do_lower_case=True)\n",
    "\n",
    "# The maximum number of tokens for the question. Questions longer than this will be truncated to this length.\n",
    "max_query_length = 64\n",
    "\n",
    "# When splitting up a long document into chunks, how much stride to take between chunks.\n",
    "doc_stride = 128\n",
    "\n",
    "# The maximum total input sequence length after WordPiece tokenization. \n",
    "# Sequences longer than this will be truncated, and sequences shorter than this will be padded.\n",
    "max_seq_length = 128\n",
    "\n",
    "# Extract tokens from the paragraph\n",
    "doc_tokens = dp.convert_doc_tokens(short_paragraph_text)\n",
    "\n",
    "# Extract features from the paragraph and question\n",
    "features = dp.convert_examples_to_features(doc_tokens, question_text, tokenizer, max_seq_length, doc_stride, max_query_length)"
   ]
  },
  {
   "cell_type": "markdown",
   "metadata": {},
   "source": [
    "## 5. Inference\n",
    "\n",
    "We are going to use the TensorRT Inference Server Python API: that will make the communication with the inference server very easy.\n",
    "In this example we will use the HTTP protocol, but GRPC is also possible and very easy to enable."
   ]
  },
  {
   "cell_type": "code",
   "execution_count": 70,
   "metadata": {},
   "outputs": [],
   "source": [
    "from builtins import range\n",
    "from tensorrtserver.api import *\n",
    "\n",
    "model_name = \"bert_tf_v2_large_fp16_128_v2\"\n",
    "model_version = -1\n",
    "batch_size = 1\n",
    "url = '34.66.157.22:8000'\n",
    "\n",
    "protocol = ProtocolType.from_str('http')"
   ]
  },
  {
   "cell_type": "code",
   "execution_count": 71,
   "metadata": {},
   "outputs": [],
   "source": [
    "# Create a health context, get the ready and live state of server.\n",
    "health_ctx = ServerHealthContext(url, protocol=protocol, http_headers='', verbose=True)"
   ]
  },
  {
   "cell_type": "code",
   "execution_count": 72,
   "metadata": {},
   "outputs": [
    {
     "name": "stdout",
     "output_type": "stream",
     "text": [
      "Health for model bert_tf_v2_large_fp16_128_v2\n",
      "Live: True\n",
      "Ready: True\n"
     ]
    }
   ],
   "source": [
    "print(\"Health for model {}\".format(model_name))\n",
    "print(\"Live: {}\".format(health_ctx.is_live()))\n",
    "print(\"Ready: {}\".format(health_ctx.is_ready()))"
   ]
  },
  {
   "cell_type": "code",
   "execution_count": 73,
   "metadata": {},
   "outputs": [
    {
     "name": "stdout",
     "output_type": "stream",
     "text": [
      "Status for model bert_tf_v2_large_fp16_128_v2\n",
      "id: \"inference:0\"\n",
      "version: \"1.6.0\"\n",
      "uptime_ns: 15688767642199\n",
      "model_status {\n",
      "  key: \"bert_tf_v2_large_fp16_128_v2\"\n",
      "  value {\n",
      "    config {\n",
      "      name: \"bert_tf_v2_large_fp16_128_v2\"\n",
      "      platform: \"tensorflow_savedmodel\"\n",
      "      version_policy {\n",
      "        latest {\n",
      "          num_versions: 1\n",
      "        }\n",
      "      }\n",
      "      max_batch_size: 1\n",
      "      input {\n",
      "        name: \"unique_ids\"\n",
      "        data_type: TYPE_INT32\n",
      "        dims: 1\n",
      "        reshape {\n",
      "        }\n",
      "      }\n",
      "      input {\n",
      "        name: \"segment_ids\"\n",
      "        data_type: TYPE_INT32\n",
      "        dims: 128\n",
      "      }\n",
      "      input {\n",
      "        name: \"input_ids\"\n",
      "        data_type: TYPE_INT32\n",
      "        dims: 128\n",
      "      }\n",
      "      input {\n",
      "        name: \"input_mask\"\n",
      "        data_type: TYPE_INT32\n",
      "        dims: 128\n",
      "      }\n",
      "      output {\n",
      "        name: \"end_logits\"\n",
      "        data_type: TYPE_FP32\n",
      "        dims: 128\n",
      "      }\n",
      "      output {\n",
      "        name: \"start_logits\"\n",
      "        data_type: TYPE_FP32\n",
      "        dims: 128\n",
      "      }\n",
      "      instance_group {\n",
      "        name: \"bert_tf_v2_large_fp16_128_v2_0\"\n",
      "        count: 1\n",
      "        gpus: 0\n",
      "        kind: KIND_GPU\n",
      "      }\n",
      "      default_model_filename: \"model.savedmodel\"\n",
      "    }\n",
      "    version_status {\n",
      "      key: 1\n",
      "      value {\n",
      "        ready_state: MODEL_READY\n",
      "        infer_stats {\n",
      "          key: 1\n",
      "          value {\n",
      "            success {\n",
      "              count: 10\n",
      "              total_time_ns: 15058355786\n",
      "            }\n",
      "            compute {\n",
      "              count: 10\n",
      "              total_time_ns: 15057628054\n",
      "            }\n",
      "            queue {\n",
      "              count: 10\n",
      "              total_time_ns: 407186\n",
      "            }\n",
      "          }\n",
      "        }\n",
      "        model_execution_count: 10\n",
      "        model_inference_count: 10\n",
      "      }\n",
      "    }\n",
      "  }\n",
      "}\n",
      "ready_state: SERVER_READY\n",
      "\n"
     ]
    }
   ],
   "source": [
    "# Create a status context and get server status\n",
    "status_ctx = ServerStatusContext(url, protocol, model_name, http_headers='', verbose=True)\n",
    "\n",
    "print(\"Status for model {}\".format(model_name))\n",
    "print(status_ctx.get_server_status())"
   ]
  },
  {
   "cell_type": "code",
   "execution_count": 74,
   "metadata": {},
   "outputs": [],
   "source": [
    "# Create the inference context for the model.\n",
    "infer_ctx = InferContext(url, protocol, model_name, model_version, http_headers='', verbose=True)"
   ]
  },
  {
   "cell_type": "code",
   "execution_count": 75,
   "metadata": {},
   "outputs": [],
   "source": [
    "# Create the data for the four input tensors. \n",
    "# Initialize the first to unique integers and the others to the values obtained from pre-processing.\n",
    "unique_ids = np.int32([1])\n",
    "segment_ids = features[\"segment_ids\"]\n",
    "input_ids = features[\"input_ids\"]\n",
    "input_mask = features[\"input_mask\"]"
   ]
  },
  {
   "cell_type": "code",
   "execution_count": 76,
   "metadata": {},
   "outputs": [
    {
     "name": "stdout",
     "output_type": "stream",
     "text": [
      "\n",
      "Running Inference...\n",
      "-----------------------------\n",
      "Running Inference in 17.378 Sentences/Sec\n",
      "-----------------------------\n"
     ]
    }
   ],
   "source": [
    "print(\"\\nRunning Inference...\")\n",
    "eval_start_time = time.time()\n",
    "\n",
    "# Send inference request to the inference server. Get results for\n",
    "# both output tensors.\n",
    "result = infer_ctx.run({ 'unique_ids' : (unique_ids,),\n",
    "                         'segment_ids' : (segment_ids,),\n",
    "                         'input_ids' : (input_ids,),\n",
    "                         'input_mask' : (input_mask,) },\n",
    "                       { 'end_logits' : InferContext.ResultFormat.RAW,\n",
    "                         'start_logits' : InferContext.ResultFormat.RAW }, \n",
    "                       batch_size)\n",
    "\n",
    "eval_time_elapsed = time.time() - eval_start_time\n",
    "\n",
    "print(\"-----------------------------\")\n",
    "print(\"Running Inference in {:.3f} Sentences/Sec\".format(1.0/eval_time_elapsed))\n",
    "print(\"-----------------------------\")"
   ]
  },
  {
   "cell_type": "markdown",
   "metadata": {},
   "source": [
    "## 5. Post-Processing"
   ]
  },
  {
   "cell_type": "code",
   "execution_count": 77,
   "metadata": {},
   "outputs": [],
   "source": [
    "# We expect there to be 2 results (each with batch-size 1). \n",
    "end_logits = result['end_logits'][0]\n",
    "start_logits = result['start_logits'][0]"
   ]
  },
  {
   "cell_type": "code",
   "execution_count": 78,
   "metadata": {},
   "outputs": [
    {
     "name": "stdout",
     "output_type": "stream",
     "text": [
      "Answer: 'John F. Kennedy'\n",
      "with prob: 77.919%\n"
     ]
    }
   ],
   "source": [
    "# The total number of n-best predictions to generate in the nbest_predictions.json output file\n",
    "n_best_size = 20\n",
    "\n",
    "# The maximum length of an answer that can be generated. This is needed \n",
    "#  because the start and end predictions are not conditioned on one another\n",
    "max_answer_length = 30\n",
    "\n",
    "(prediction, nbest_json, scores_diff_json) = \\\n",
    "    dp.get_predictions(doc_tokens, features, start_logits, end_logits, n_best_size, max_answer_length)\n",
    "\n",
    "print(\"Answer: '{}'\".format(prediction))\n",
    "print(\"with prob: {:.3f}%\".format(nbest_json[0]['probability'] * 100.0))"
   ]
  }
 ],
 "metadata": {
  "kernelspec": {
   "display_name": "Python 3",
   "language": "python",
   "name": "python3"
  },
  "language_info": {
   "codemirror_mode": {
    "name": "ipython",
    "version": 3
   },
   "file_extension": ".py",
   "mimetype": "text/x-python",
   "name": "python",
   "nbconvert_exporter": "python",
   "pygments_lexer": "ipython3",
   "version": "3.6.8"
  }
 },
 "nbformat": 4,
 "nbformat_minor": 2
}
